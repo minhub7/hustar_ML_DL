{
 "cells": [
  {
   "cell_type": "code",
   "execution_count": 8,
   "id": "0ee5416b-c562-4826-a255-afec570689c0",
   "metadata": {},
   "outputs": [],
   "source": [
    "import numpy as np\n",
    "import tensorflow as tf\n",
    "import matplotlib.pyplot as plt\n",
    "from tensorflow.keras import Model, layers\n",
    "from tensorflow.keras.models import Sequential\n",
    "from sklearn.model_selection import train_test_split\n",
    "\n",
    "np.random.seed(1)\n",
    "tf.random.set_seed(1)"
   ]
  },
  {
   "cell_type": "code",
   "execution_count": 9,
   "id": "93103c7a-2c93-4013-9dca-d8dd0740e716",
   "metadata": {},
   "outputs": [
    {
     "name": "stdout",
     "output_type": "stream",
     "text": [
      "x_trainval: <class 'numpy.ndarray'>, (60000, 28, 28)\n",
      "x_test: <class 'numpy.ndarray'>, (10000, 28, 28)\n",
      "x_train: <class 'numpy.ndarray'>, (50000, 28, 28)\n",
      "x_valid: <class 'numpy.ndarray'>, (10000, 28, 28)\n"
     ]
    }
   ],
   "source": [
    "(x_trainval, y_trainval), (x_test, y_test) = tf.keras.datasets.mnist.load_data()\n",
    "print(f\"x_trainval: {type(x_trainval)}, {x_trainval.shape}\")\n",
    "print(f\"x_test: {type(x_test)}, {x_test.shape}\")\n",
    "\n",
    "x_train, x_valid, y_train, y_valid = train_test_split(x_trainval, y_trainval, test_size=1/6, shuffle=True,\n",
    "                                                      stratify=y_trainval, random_state=34)\n",
    "print(f\"x_train: {type(x_train)}, {x_train.shape}\")\n",
    "print(f\"x_valid: {type(x_valid)}, {x_valid.shape}\")"
   ]
  },
  {
   "cell_type": "code",
   "execution_count": 10,
   "id": "c918a930-e2a3-432e-9eb1-c212ae3e5444",
   "metadata": {},
   "outputs": [
    {
     "name": "stdout",
     "output_type": "stream",
     "text": [
      "(50000, 28, 28)\n",
      "(50000, 28, 28, 1)\n"
     ]
    }
   ],
   "source": [
    "x_train = x_train.astype('float32') / 255\n",
    "x_valid = x_valid.astype('float32') / 255\n",
    "x_test = x_test.astype('float32') / 255\n",
    "\n",
    "print(x_train.shape)\n",
    "\n",
    "x_train = x_train.reshape(-1, 28, 28, 1)\n",
    "x_valid = x_valid.reshape(-1, 28, 28, 1)\n",
    "x_test = x_test.reshape(-1, 28, 28, 1)\n",
    "\n",
    "print(x_train.shape)"
   ]
  },
  {
   "cell_type": "code",
   "execution_count": 11,
   "id": "220ace13-2566-40af-8652-e77da41014d8",
   "metadata": {},
   "outputs": [
    {
     "name": "stdout",
     "output_type": "stream",
     "text": [
      "Model: \"sequential_1\"\n",
      "_________________________________________________________________\n",
      " Layer (type)                Output Shape              Param #   \n",
      "=================================================================\n",
      " conv2d_2 (Conv2D)           (None, 28, 28, 32)        320       \n",
      "                                                                 \n",
      " max_pooling2d_2 (MaxPooling  (None, 14, 14, 32)       0         \n",
      " 2D)                                                             \n",
      "                                                                 \n",
      " conv2d_3 (Conv2D)           (None, 14, 14, 64)        18496     \n",
      "                                                                 \n",
      " max_pooling2d_3 (MaxPooling  (None, 7, 7, 64)         0         \n",
      " 2D)                                                             \n",
      "                                                                 \n",
      " flatten_1 (Flatten)         (None, 3136)              0         \n",
      "                                                                 \n",
      " dense_2 (Dense)             (None, 128)               401536    \n",
      "                                                                 \n",
      " dense_3 (Dense)             (None, 10)                1290      \n",
      "                                                                 \n",
      "=================================================================\n",
      "Total params: 421,642\n",
      "Trainable params: 421,642\n",
      "Non-trainable params: 0\n",
      "_________________________________________________________________\n"
     ]
    }
   ],
   "source": [
    "cnn = Sequential([\n",
    "    # Feature extraction\n",
    "    layers.Conv2D(32, 3, strides=1, padding='same', activation='relu', input_shape=(28,28,1)),\n",
    "    layers.MaxPool2D(3, strides=2, padding='same'),\n",
    "    layers.Conv2D(64, 3, strides=1, padding='same', activation='relu'),\n",
    "    layers.MaxPool2D(3, strides=2, padding='same'),\n",
    "\n",
    "    layers.Flatten(),\n",
    "    layers.Dense(128, activation='relu'),\n",
    "    layers.Dense(10, activation='softmax')\n",
    "])\n",
    "\n",
    "cnn.summary()"
   ]
  },
  {
   "cell_type": "code",
   "execution_count": 12,
   "id": "c5a25cfd-6d2f-48ec-9942-7de8cb0f81b7",
   "metadata": {},
   "outputs": [],
   "source": [
    "cnn.compile(loss='sparse_categorical_crossentropy',\n",
    "            optimizer=tf.keras.optimizers.SGD(learning_rate=0.1),\n",
    "            metrics=['accuracy'])"
   ]
  },
  {
   "cell_type": "code",
   "execution_count": 13,
   "id": "d68cd750-73b9-41fa-a118-1a72af00b7dc",
   "metadata": {},
   "outputs": [
    {
     "name": "stdout",
     "output_type": "stream",
     "text": [
      "Epoch 1/10\n",
      "391/391 [==============================] - 4s 9ms/step - loss: 0.4574 - accuracy: 0.8543 - val_loss: 0.1443 - val_accuracy: 0.9532\n",
      "Epoch 2/10\n",
      "391/391 [==============================] - 3s 8ms/step - loss: 0.0860 - accuracy: 0.9732 - val_loss: 0.0695 - val_accuracy: 0.9774\n",
      "Epoch 3/10\n",
      "391/391 [==============================] - 3s 8ms/step - loss: 0.0611 - accuracy: 0.9809 - val_loss: 0.0639 - val_accuracy: 0.9790\n",
      "Epoch 4/10\n",
      "391/391 [==============================] - 3s 8ms/step - loss: 0.0460 - accuracy: 0.9861 - val_loss: 0.0481 - val_accuracy: 0.9849\n",
      "Epoch 5/10\n",
      "391/391 [==============================] - 3s 8ms/step - loss: 0.0393 - accuracy: 0.9879 - val_loss: 0.0344 - val_accuracy: 0.9895\n",
      "Epoch 6/10\n",
      "391/391 [==============================] - 3s 8ms/step - loss: 0.0335 - accuracy: 0.9898 - val_loss: 0.0277 - val_accuracy: 0.9916\n",
      "Epoch 7/10\n",
      "391/391 [==============================] - 3s 8ms/step - loss: 0.0298 - accuracy: 0.9906 - val_loss: 0.0299 - val_accuracy: 0.9900\n",
      "Epoch 8/10\n",
      "391/391 [==============================] - 3s 8ms/step - loss: 0.0264 - accuracy: 0.9920 - val_loss: 0.0211 - val_accuracy: 0.9935\n",
      "Epoch 9/10\n",
      "391/391 [==============================] - 3s 8ms/step - loss: 0.0233 - accuracy: 0.9928 - val_loss: 0.0413 - val_accuracy: 0.9866\n",
      "Epoch 10/10\n",
      "391/391 [==============================] - 3s 8ms/step - loss: 0.0207 - accuracy: 0.9934 - val_loss: 0.0399 - val_accuracy: 0.9865\n"
     ]
    }
   ],
   "source": [
    "result = cnn.fit(x_train, y_train,\n",
    "                 epochs=10,\n",
    "                 batch_size=128,\n",
    "                 validation_data=(x_train, y_train))"
   ]
  },
  {
   "cell_type": "code",
   "execution_count": 14,
   "id": "8ec2eba6-7910-4746-8a50-95a83dccdc33",
   "metadata": {},
   "outputs": [
    {
     "name": "stdout",
     "output_type": "stream",
     "text": [
      "313/313 [==============================] - 1s 3ms/step - loss: 0.0516 - accuracy: 0.9843\n",
      "test loss: 0.051585905253887177\n",
      "test acc: 0.9843000173568726\n"
     ]
    }
   ],
   "source": [
    "test_result = cnn.evaluate(x_test, y_test)\n",
    "print(f\"test loss: {test_result[0]}\")\n",
    "print(f\"test acc: {test_result[1]}\")"
   ]
  }
 ],
 "metadata": {
  "kernelspec": {
   "display_name": "Python 3 (ipykernel)",
   "language": "python",
   "name": "python3"
  },
  "language_info": {
   "codemirror_mode": {
    "name": "ipython",
    "version": 3
   },
   "file_extension": ".py",
   "mimetype": "text/x-python",
   "name": "python",
   "nbconvert_exporter": "python",
   "pygments_lexer": "ipython3",
   "version": "3.9.7"
  }
 },
 "nbformat": 4,
 "nbformat_minor": 5
}
