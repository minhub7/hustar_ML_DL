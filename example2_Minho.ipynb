{
 "cells": [
  {
   "cell_type": "code",
   "execution_count": 7,
   "id": "c163aae4-851c-41d7-9773-4fe7e4b952c7",
   "metadata": {},
   "outputs": [],
   "source": [
    "import random\n",
    "import numpy as np\n",
    "import tensorflow as tf\n",
    "import matplotlib.pyplot as plt"
   ]
  },
  {
   "cell_type": "code",
   "execution_count": 8,
   "id": "b545edf4-fbb7-4d5d-ac2d-fdf7fc90057c",
   "metadata": {},
   "outputs": [],
   "source": [
    "random.seed(1)\n",
    "np.random.seed(1)\n",
    "tf.random.set_seed(1)"
   ]
  },
  {
   "cell_type": "code",
   "execution_count": 43,
   "id": "83b36183-5ecc-49fe-9c98-5541825873ff",
   "metadata": {},
   "outputs": [
    {
     "name": "stdout",
     "output_type": "stream",
     "text": [
      "tf.Tensor(\n",
      "[4.359754   2.4985409  3.1810284  3.345573   3.123194   5.397022\n",
      " 1.1623706  1.641368   2.918628   4.032759   3.32335    3.1562872\n",
      " 1.9830768  3.64962    4.227969   0.91549826 2.0133562  1.2352504\n",
      " 3.4161448  6.4164686 ], shape=(20,), dtype=float32)\n",
      "tf.Tensor(\n",
      "[4.8037825 5.680389  6.451111  7.6632338 5.192713  4.595879  4.536932\n",
      " 7.3043776 5.335829  4.833062  5.075529  5.8167233 8.29907   3.3189344\n",
      " 6.397407  6.8238955 4.5166416 5.6536207 6.9497185 4.2668114], shape=(20,), dtype=float32)\n",
      "(40,)\n",
      "(40,)\n"
     ]
    }
   ],
   "source": [
    "x_0 = tf.random.normal([20], 3, 1)\n",
    "x_1 = tf.random.normal([20], 5.5, 1)\n",
    "y_0 = tf.zeros(20)\n",
    "y_1 = tf.ones(20)\n",
    "\n",
    "print(x_0)\n",
    "print(x_1)\n",
    "\n",
    "x = tf.concat([x_0, x_1], axis=0)\n",
    "y = tf.concat([y_0, y_1], axis=0)\n",
    "\n",
    "print(x.shape)\n",
    "print(y.shape)"
   ]
  },
  {
   "cell_type": "code",
   "execution_count": 21,
   "id": "a7ea9db5-5041-4aed-b7d1-1054f113007d",
   "metadata": {},
   "outputs": [],
   "source": [
    "def plot_graph(X, Y, X_hat=None, Y_hat=None, str_title=None):\n",
    "    fig = plt.figure(figsize=(8,6))\n",
    "    \n",
    "    if str_title:\n",
    "        plt.title(str_title, fontsize=20, pad=20)\n",
    "    \n",
    "    plt.plot(X, Y, ls='none', marker='x')\n",
    "    \n",
    "    if X_hat is not None and Y_hat is not None:\n",
    "        plt.plot(X_hat, Y_hat)\n",
    "    \n",
    "    plt.tick_params(axis='both', labelsize=14)"
   ]
  },
  {
   "cell_type": "code",
   "execution_count": 22,
   "id": "f3640e9e-3d45-4b3b-8599-dc13fb9a1d8b",
   "metadata": {},
   "outputs": [
    {
     "data": {
      "image/png": "[encoded data removed]",
      "text/plain": [
       "<Figure size 576x432 with 1 Axes>"
      ]
     },
     "metadata": {
      "needs_background": "light"
     },
     "output_type": "display_data"
    }
   ],
   "source": [
    "plot_graph(x, y, str_title='dataset')"
   ]
  },
  {
   "cell_type": "code",
   "execution_count": 34,
   "id": "41a71acb-20c1-4579-93b7-c1e9ed2bbad2",
   "metadata": {},
   "outputs": [
    {
     "name": "stdout",
     "output_type": "stream",
     "text": [
      "<tf.Variable 'Variable:0' shape=(1,) dtype=float32, numpy=array([0.3899936], dtype=float32)>\n"
     ]
    }
   ],
   "source": [
    "W = tf.Variable(tf.random_normal_initializer(stddev=1)([1]))\n",
    "b = tf.Variable(tf.random_normal_initializer(stddev=1)([1]))\n",
    "\n",
    "print(W)\n",
    "\n",
    "def cross_entropy(y_pred, y_true):\n",
    "    y_pred = tf.clip_by_value(y_pred, 1e-9, 1.)\n",
    "    return -tf.reduce_sum(y_true * tf.math.log(y_pred) + (1 - y_true) * (tf.math.log(1 - y_pred)))"
   ]
  },
  {
   "cell_type": "code",
   "execution_count": 37,
   "id": "a730a97a-8299-4fc1-8048-a761f9b5e906",
   "metadata": {},
   "outputs": [],
   "source": [
    "lr = 0.005\n",
    "optimizer = tf.optimizers.SGD(lr)\n",
    "\n",
    "def run_optimization():\n",
    "    with tf.GradientTape() as g:\n",
    "        pred = 1 / (1 + tf.exp(-1 * (W*x + b)))\n",
    "        loss = cross_entropy(pred, y)\n",
    "        \n",
    "    gradients = g.gradient(loss, [W, b])\n",
    "    optimizer.apply_gradients(zip(gradients, [W, b]))"
   ]
  },
  {
   "cell_type": "code",
   "execution_count": null,
   "id": "1d062af5-e65c-4d5d-aa21-caa99fb7fdec",
   "metadata": {},
   "outputs": [],
   "source": [
    "x_fl = np.linspace(np.min(x), np.max(x), 100)\n",
    "# plot_graph(x, y, X_hat=x_fl, Y_hat="
   ]
  },
  {
   "cell_type": "code",
   "execution_count": 38,
   "id": "eeab7c1e-6ebe-4123-ae9d-95b15e7eb575",
   "metadata": {},
   "outputs": [
    {
     "name": "stdout",
     "output_type": "stream",
     "text": [
      "step: 1500, loss: 10.529069900512695\n",
      "step: 2000, loss: 9.343148231506348\n",
      "step: 2500, loss: 8.735313415527344\n",
      "step: 3000, loss: 8.358487129211426\n",
      "step: 3500, loss: 8.099082946777344\n",
      "step: 4000, loss: 7.9082865715026855\n",
      "step: 4500, loss: 7.761410713195801\n",
      "step: 5000, loss: 7.644531726837158\n",
      "step: 5500, loss: 7.5491485595703125\n",
      "step: 6000, loss: 7.469753265380859\n",
      "step: 6500, loss: 7.402609825134277\n",
      "step: 7000, loss: 7.345078468322754\n",
      "step: 7500, loss: 7.295244216918945\n",
      "step: 8000, loss: 7.251678466796875\n",
      "step: 8500, loss: 7.213287830352783\n",
      "step: 9000, loss: 7.17922830581665\n",
      "step: 9500, loss: 7.148827075958252\n",
      "step: 10000, loss: 7.121549129486084\n",
      "step: 10500, loss: 7.0969557762146\n",
      "step: 11000, loss: 7.07469367980957\n"
     ]
    }
   ],
   "source": [
    "training_steps = 10000\n",
    "display_step = 500\n",
    "for step in range(end_step + 1, end_step + training_steps + 1):\n",
    "    run_optimization()\n",
    "    \n",
    "    if step % display_step == 0:\n",
    "        pred = 1 / (1 + tf.exp(-1 * (W*x + b)))\n",
    "        loss = cross_entropy(pred, y)\n",
    "        print(f\"step: {step}, loss: {loss.numpy()}\")\n",
    "        \n",
    "end_step = step"
   ]
  },
  {
   "cell_type": "code",
   "execution_count": null,
   "id": "39004571-4ea7-4db8-9517-d51d3f5b503c",
   "metadata": {},
   "outputs": [],
   "source": [
    "\n"
   ]
  }
 ],
 "metadata": {
  "kernelspec": {
   "display_name": "Python 3 (ipykernel)",
   "language": "python",
   "name": "python3"
  },
  "language_info": {
   "codemirror_mode": {
    "name": "ipython",
    "version": 3
   },
   "file_extension": ".py",
   "mimetype": "text/x-python",
   "name": "python",
   "nbconvert_exporter": "python",
   "pygments_lexer": "ipython3",
   "version": "3.9.7"
  }
 },
 "nbformat": 4,
 "nbformat_minor": 5
}
