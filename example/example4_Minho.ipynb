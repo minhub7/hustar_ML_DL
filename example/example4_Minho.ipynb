{
 "cells": [
  {
   "cell_type": "code",
   "execution_count": 1,
   "id": "17bc28fa-23ab-445a-8710-ef15ea4b9b6d",
   "metadata": {},
   "outputs": [],
   "source": [
    "import random\n",
    "import numpy as np\n",
    "import tensorflow as tf\n",
    "import matplotlib.pyplot as plt\n",
    "\n",
    "random.seed(1)\n",
    "np.random.seed(1)\n",
    "tf.random.set_seed(1)"
   ]
  },
  {
   "cell_type": "code",
   "execution_count": 2,
   "id": "6b05ad09-5b7b-42d7-98da-cc6817614227",
   "metadata": {},
   "outputs": [
    {
     "name": "stderr",
     "output_type": "stream",
     "text": [
      "2022-07-27 13:40:44.238924: I tensorflow/core/platform/cpu_feature_guard.cc:151] This TensorFlow binary is optimized with oneAPI Deep Neural Network Library (oneDNN) to use the following CPU instructions in performance-critical operations:  AVX2 FMA\n",
      "To enable them in other operations, rebuild TensorFlow with the appropriate compiler flags.\n",
      "2022-07-27 13:40:45.338398: I tensorflow/core/common_runtime/gpu/gpu_device.cc:1525] Created device /job:localhost/replica:0/task:0/device:GPU:0 with 9970 MB memory:  -> device: 0, name: NVIDIA GeForce GTX 1080 Ti, pci bus id: 0000:03:00.0, compute capability: 6.1\n",
      "2022-07-27 13:40:45.339479: I tensorflow/core/common_runtime/gpu/gpu_device.cc:1525] Created device /job:localhost/replica:0/task:0/device:GPU:1 with 10402 MB memory:  -> device: 1, name: NVIDIA GeForce GTX 1080 Ti, pci bus id: 0000:04:00.0, compute capability: 6.1\n"
     ]
    }
   ],
   "source": [
    "(x_train, y_train), (x_test, y_test) = tf.keras.datasets.mnist.load_data()\n",
    "\n",
    "x_train = x_train.astype('float32')\n",
    "x_test = x_test.astype('float32')\n",
    "\n",
    "num_classes = 10\n",
    "num_features = 784  # x_train.shape[1] * x_train.shape[2]\n",
    "\n",
    "x_train, x_test = tf.reshape(x_train, [-1, 784]), tf.reshape(x_test, [-1, 784])\n",
    "\n",
    "# normalization\n",
    "x_train = x_train / 255.\n",
    "x_test = x_test / 255."
   ]
  },
  {
   "cell_type": "code",
   "execution_count": 7,
   "id": "b127a832-ef81-4127-822e-c496f605917a",
   "metadata": {},
   "outputs": [
    {
     "name": "stdout",
     "output_type": "stream",
     "text": [
      "tf.Tensor(\n",
      "[[0. 0. 0. ... 0. 0. 0.]\n",
      " [0. 0. 0. ... 0. 0. 0.]\n",
      " [0. 0. 0. ... 0. 0. 0.]\n",
      " ...\n",
      " [0. 0. 0. ... 0. 0. 0.]\n",
      " [0. 0. 0. ... 0. 0. 0.]\n",
      " [0. 0. 0. ... 0. 0. 0.]], shape=(60000, 784), dtype=float32)\n",
      "tf.Tensor(\n",
      "[[0. 0. 0. ... 0. 0. 0.]\n",
      " [0. 0. 0. ... 0. 0. 0.]\n",
      " [0. 0. 0. ... 0. 0. 0.]\n",
      " ...\n",
      " [0. 0. 0. ... 0. 0. 0.]\n",
      " [0. 0. 0. ... 0. 0. 0.]\n",
      " [0. 0. 0. ... 0. 0. 0.]], shape=(10000, 784), dtype=float32)\n"
     ]
    }
   ],
   "source": [
    "print(x_train)\n",
    "print(x_test)"
   ]
  },
  {
   "cell_type": "code",
   "execution_count": 3,
   "id": "855012d0-145e-4426-ad55-e025803b8fa9",
   "metadata": {},
   "outputs": [],
   "source": [
    "from tensorflow.keras import Model, layers\n",
    "\n",
    "# Model Define\n",
    "class NeuralNet(Model):\n",
    "    def __init__(self):\n",
    "        super().__init__()\n",
    "        \n",
    "        # MLP layer 이므로 Dense\n",
    "        self.fc1 = layers.Dense(128, activation=tf.nn.relu)\n",
    "        self.fc2 = layers.Dense(256, activation=tf.nn.relu)\n",
    "        self.out = layers.Dense(10) # MNIST 는 10개로 분류\n",
    "        \n",
    "    def call(self, x, is_train=False):\n",
    "        x = self.fc1(x)\n",
    "        x = self.fc2(x)\n",
    "        x = self.out(x)\n",
    "        \n",
    "        if not is_train:    # Training이 아니면\n",
    "            x = tf.nn.softmax(x)  # softmax 통과\n",
    "            \n",
    "        return x"
   ]
  },
  {
   "cell_type": "code",
   "execution_count": 5,
   "id": "6e9156d6-ba3d-45ed-acd2-e8da9b55001f",
   "metadata": {},
   "outputs": [],
   "source": [
    "neural_net = NeuralNet()"
   ]
  },
  {
   "cell_type": "code",
   "execution_count": 8,
   "id": "905d3a11-36fc-4554-a0ae-8602382e2b4b",
   "metadata": {},
   "outputs": [],
   "source": [
    "def cross_entropy_loss(x, y):\n",
    "    y = tf.cast(y, tf.int64)\n",
    "    loss = tf.nn.sparse_softmax_cross_entropy_with_logits(labels=y, logits=x)\n",
    "    return tf.reduce_mean(loss)"
   ]
  },
  {
   "cell_type": "code",
   "execution_count": 13,
   "id": "64301ff1-c19c-44e0-a7bb-2f6e257bc5a0",
   "metadata": {},
   "outputs": [],
   "source": [
    "lr = 0.001\n",
    "optimizer = tf.optimizers.SGD(lr)\n",
    "\n",
    "def run_optimization(x, y):\n",
    "    with tf.GradientTape() as g:\n",
    "        pred = neural_net(x, is_train=False)\n",
    "        loss = cross_entropy_loss(pred, y)\n",
    "    \n",
    "    params = neural_net.trainable_variables\n",
    "    gradients = g.gradient(loss, params)\n",
    "    optimizer.apply_gradients(zip(gradients, params))\n",
    "    \n",
    "def accuracy(y_pred, y_true):\n",
    "    correct_prediction = tf.equal(tf.argmax(y_pred, axis=1), tf.cast(y_true, tf.int64))\n",
    "    return tf.reduce_mean(tf.cast(correct_prediction, tf.float32))"
   ]
  },
  {
   "cell_type": "code",
   "execution_count": 15,
   "id": "c3a7f9cf-ce26-40df-b3dd-f2486818327f",
   "metadata": {},
   "outputs": [
    {
     "name": "stdout",
     "output_type": "stream",
     "text": [
      "epoch: 5, loss: 2.2741382122039795, acc: 0.1899999976158142\n",
      "epoch: 10, loss: 2.224592685699463, acc: 0.3400000035762787\n",
      "epoch: 15, loss: 2.1877450942993164, acc: 0.4050000011920929\n",
      "epoch: 20, loss: 2.165534734725952, acc: 0.4050000011920929\n",
      "epoch: 25, loss: 2.1457669734954834, acc: 0.375\n",
      "epoch: 30, loss: 2.0793464183807373, acc: 0.4350000023841858\n",
      "epoch: 35, loss: 2.0766611099243164, acc: 0.4099999964237213\n",
      "epoch: 40, loss: 2.0178754329681396, acc: 0.47999998927116394\n",
      "epoch: 45, loss: 1.9432852268218994, acc: 0.6399999856948853\n",
      "epoch: 50, loss: 1.9123320579528809, acc: 0.6850000023841858\n",
      "epoch: 55, loss: 1.840525507926941, acc: 0.7900000214576721\n",
      "epoch: 60, loss: 1.8254246711730957, acc: 0.7450000047683716\n"
     ]
    }
   ],
   "source": [
    "batch_size = 200\n",
    "train_data = tf.data.Dataset.from_tensor_slices((x_train, y_train))\n",
    "train_data = train_data.shuffle(60000).batch(batch_size).prefetch(1)\n",
    "\n",
    "epoch = 60\n",
    "display_epoch = 5\n",
    "\n",
    "for epo in range(1, epoch + 1):\n",
    "    for step, (batch_x, batch_y) in enumerate(train_data, 1):\n",
    "        run_optimization(batch_x, batch_y)\n",
    "        \n",
    "    if epo % display_epoch == 0:\n",
    "        pred = neural_net(batch_x)\n",
    "        loss = cross_entropy_loss(pred, batch_y)\n",
    "        acc = accuracy(pred, batch_y)\n",
    "        print(f\"epoch: {epo}, loss: {loss.numpy()}, acc: {acc.numpy()}\")"
   ]
  },
  {
   "cell_type": "code",
   "execution_count": 17,
   "id": "2b7fe670-5dda-4c2a-aefd-29f8ce0d7e69",
   "metadata": {},
   "outputs": [
    {
     "name": "stdout",
     "output_type": "stream",
     "text": [
      "Test Accuracy: 0.7450000047683716\n"
     ]
    }
   ],
   "source": [
    "pred = neural_net(x_test)\n",
    "print(f\"Test Accuracy: {accuracy(pred, y_text).numpy()}\")"
   ]
  },
  {
   "cell_type": "code",
   "execution_count": 18,
   "id": "12c009f1-d05f-4639-bf08-4071a66985d3",
   "metadata": {},
   "outputs": [],
   "source": [
    "from tensorflow.keras.models import Sequential\n",
    "from tensorflow.keras.layers import Flatten, Dense\n",
    "from tensorflow.keras.metrics import SparseCategoricalAccuracy"
   ]
  },
  {
   "cell_type": "code",
   "execution_count": 19,
   "id": "19095a7a-4412-4d79-8b23-6d2131c10f80",
   "metadata": {},
   "outputs": [],
   "source": [
    "(x_train, y_train), (x_test, y_test) = tf.keras.datasets.mnist.load_data()\n",
    "\n",
    "x_train = x_train.astype('float32')\n",
    "x_test = x_test.astype('float32')\n",
    "\n",
    "num_classes = 10\n",
    "num_features = 784  # x_train.shape[1] * x_train.shape[2]\n",
    "\n",
    "# x_train, x_test = tf.reshape(x_train, [-1, 784]), tf.reshape(x_test, [-1, 784])\n",
    "\n",
    "# normalization\n",
    "x_train = x_train / 255.\n",
    "x_test = x_test / 255."
   ]
  },
  {
   "cell_type": "code",
   "execution_count": 20,
   "id": "ac88734b-01c4-4b40-94e7-950004d8366b",
   "metadata": {},
   "outputs": [],
   "source": [
    "layer1 = Flatten(input_shape = (28, 28))\n",
    "layer2 = Dense(128, activation = 'relu')\n",
    "layer3 = Dense(128, activation = 'relu')\n",
    "layer4 = Dense(10)"
   ]
  },
  {
   "cell_type": "code",
   "execution_count": 21,
   "id": "1e9bf3f5-c8c7-4efa-998e-10aaa5ae67fc",
   "metadata": {},
   "outputs": [],
   "source": [
    "mlp = Sequential([layer1, layer2, layer3, layer4])"
   ]
  },
  {
   "cell_type": "code",
   "execution_count": 25,
   "id": "51ab1e91-1587-4429-9180-1d7f4d3c1c54",
   "metadata": {},
   "outputs": [],
   "source": [
    "mlp.compile(optimizer = tf.keras.optimizers.SGD(0.01),\n",
    "            loss = tf.keras.losses.SparseCategoricalCrossentropy(from_logits=True),\n",
    "            metrics = ['accuracy'])"
   ]
  },
  {
   "cell_type": "code",
   "execution_count": 26,
   "id": "7c074191-6620-4ef4-b612-83f5f628b079",
   "metadata": {},
   "outputs": [
    {
     "name": "stdout",
     "output_type": "stream",
     "text": [
      "Epoch 1/10\n",
      "1875/1875 [==============================] - 5s 2ms/step - loss: 0.6347 - accuracy: 0.8314 - sparse_categorical_crossentropy: 0.0000e+00\n",
      "Epoch 2/10\n",
      "1875/1875 [==============================] - 5s 3ms/step - loss: 0.2952 - accuracy: 0.9151 - sparse_categorical_crossentropy: 0.0000e+00\n",
      "Epoch 3/10\n",
      "1875/1875 [==============================] - 5s 2ms/step - loss: 0.2436 - accuracy: 0.9296 - sparse_categorical_crossentropy: 0.0000e+00\n",
      "Epoch 4/10\n",
      "1875/1875 [==============================] - 5s 3ms/step - loss: 0.2098 - accuracy: 0.9399 - sparse_categorical_crossentropy: 0.0000e+00\n",
      "Epoch 5/10\n",
      "1875/1875 [==============================] - 5s 3ms/step - loss: 0.1853 - accuracy: 0.9467 - sparse_categorical_crossentropy: 0.0000e+00\n",
      "Epoch 6/10\n",
      "1875/1875 [==============================] - 5s 3ms/step - loss: 0.1659 - accuracy: 0.9525 - sparse_categorical_crossentropy: 0.0000e+00\n",
      "Epoch 7/10\n",
      "1875/1875 [==============================] - 5s 3ms/step - loss: 0.1499 - accuracy: 0.9567 - sparse_categorical_crossentropy: 0.0000e+00\n",
      "Epoch 8/10\n",
      "1875/1875 [==============================] - 5s 3ms/step - loss: 0.1367 - accuracy: 0.9607 - sparse_categorical_crossentropy: 0.0000e+00\n",
      "Epoch 9/10\n",
      "1875/1875 [==============================] - 5s 3ms/step - loss: 0.1251 - accuracy: 0.9642 - sparse_categorical_crossentropy: 0.0000e+00\n",
      "Epoch 10/10\n",
      "1875/1875 [==============================] - 5s 3ms/step - loss: 0.1156 - accuracy: 0.9667 - sparse_categorical_crossentropy: 0.0000e+00\n"
     ]
    },
    {
     "data": {
      "text/plain": [
       "<keras.callbacks.History at 0x7ff54a017fa0>"
      ]
     },
     "execution_count": 26,
     "metadata": {},
     "output_type": "execute_result"
    }
   ],
   "source": [
    "result = mlp.fit(x_train, y_train, batch_size=32, epochs=10)"
   ]
  },
  {
   "cell_type": "code",
   "execution_count": 27,
   "id": "f6ddd82d-0c9c-4b46-866e-d4ba8d6b4e89",
   "metadata": {},
   "outputs": [
    {
     "name": "stdout",
     "output_type": "stream",
     "text": [
      "313/313 [==============================] - 1s 2ms/step - loss: 0.1208 - accuracy: 0.9631 - sparse_categorical_crossentropy: 0.0000e+00\n"
     ]
    },
    {
     "data": {
      "text/plain": [
       "[0.12076966464519501, 0.963100016117096, 0.0, 0.0]"
      ]
     },
     "execution_count": 27,
     "metadata": {},
     "output_type": "execute_result"
    }
   ],
   "source": [
    "mlp.evaluate(x_test, y_test)"
   ]
  },
  {
   "cell_type": "code",
   "execution_count": null,
   "id": "425b97bf-993a-47da-8ac5-ed6adb21fba9",
   "metadata": {},
   "outputs": [],
   "source": [
    "plt.plot(result.history['accuracy'])"
   ]
  }
 ],
 "metadata": {
  "kernelspec": {
   "display_name": "Python 3 (ipykernel)",
   "language": "python",
   "name": "python3"
  },
  "language_info": {
   "codemirror_mode": {
    "name": "ipython",
    "version": 3
   },
   "file_extension": ".py",
   "mimetype": "text/x-python",
   "name": "python",
   "nbconvert_exporter": "python",
   "pygments_lexer": "ipython3",
   "version": "3.9.7"
  }
 },
 "nbformat": 4,
 "nbformat_minor": 5
}
