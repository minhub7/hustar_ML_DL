{
 "cells": [
  {
   "cell_type": "code",
   "execution_count": 1,
   "id": "eff07eb6-d1f6-45e3-b1c5-1521750f3e21",
   "metadata": {},
   "outputs": [],
   "source": [
    "import numpy as np\n",
    "import tensorflow as tf\n",
    "from tensorflow.keras import Model, layers\n",
    "from tensorflow.keras.models import Sequential\n",
    "from sklearn.model_selection import train_test_split"
   ]
  },
  {
   "cell_type": "code",
   "execution_count": 2,
   "id": "62e7dd63-04de-450e-b98c-604c23e5afa0",
   "metadata": {},
   "outputs": [
    {
     "name": "stdout",
     "output_type": "stream",
     "text": [
      "[[0.0], [0.1], [0.2], [0.3]] 0.4\n",
      "[[0.1], [0.2], [0.3], [0.4]] 0.5\n",
      "[[0.2], [0.3], [0.4], [0.5]] 0.6\n",
      "[[0.3], [0.4], [0.5], [0.6]] 0.7\n",
      "[[0.4], [0.5], [0.6], [0.7]] 0.8\n",
      "[[0.5], [0.6], [0.7], [0.8]] 0.9\n",
      "[[0.6], [0.7], [0.8], [0.9]] 1.0\n",
      "[[0.7], [0.8], [0.9], [1.0]] 1.1\n",
      "[[0.8], [0.9], [1.0], [1.1]] 1.2\n",
      "[[0.9], [1.0], [1.1], [1.2]] 1.3\n"
     ]
    }
   ],
   "source": [
    "x = []\n",
    "y = []\n",
    "\n",
    "for i in range(10):\n",
    "    lst = list(range(i, i+4))\n",
    "    x.append(list(map(lambda c: [c/10], lst)))\n",
    "    y.append((i+4)/10)\n",
    "    \n",
    "X = np.array(x)\n",
    "Y = np.array(y)\n",
    "\n",
    "for xi, yi in zip(x, y):\n",
    "    print(xi, yi)"
   ]
  },
  {
   "cell_type": "code",
   "execution_count": 3,
   "id": "11a6f78c-6f03-4459-8bb5-f7ef212f30f1",
   "metadata": {},
   "outputs": [
    {
     "name": "stderr",
     "output_type": "stream",
     "text": [
      "2022-07-28 14:47:28.325099: I tensorflow/core/platform/cpu_feature_guard.cc:151] This TensorFlow binary is optimized with oneAPI Deep Neural Network Library (oneDNN) to use the following CPU instructions in performance-critical operations:  AVX2 FMA\n",
      "To enable them in other operations, rebuild TensorFlow with the appropriate compiler flags.\n",
      "2022-07-28 14:47:29.487300: I tensorflow/core/common_runtime/gpu/gpu_device.cc:1525] Created device /job:localhost/replica:0/task:0/device:GPU:0 with 9991 MB memory:  -> device: 0, name: NVIDIA GeForce GTX 1080 Ti, pci bus id: 0000:03:00.0, compute capability: 6.1\n",
      "2022-07-28 14:47:29.488345: I tensorflow/core/common_runtime/gpu/gpu_device.cc:1525] Created device /job:localhost/replica:0/task:0/device:GPU:1 with 10402 MB memory:  -> device: 1, name: NVIDIA GeForce GTX 1080 Ti, pci bus id: 0000:04:00.0, compute capability: 6.1\n"
     ]
    },
    {
     "name": "stdout",
     "output_type": "stream",
     "text": [
      "Model: \"sequential\"\n",
      "_________________________________________________________________\n",
      " Layer (type)                Output Shape              Param #   \n",
      "=================================================================\n",
      " simple_rnn (SimpleRNN)      (None, 10)                120       \n",
      "                                                                 \n",
      " dense (Dense)               (None, 1)                 11        \n",
      "                                                                 \n",
      "=================================================================\n",
      "Total params: 131\n",
      "Trainable params: 131\n",
      "Non-trainable params: 0\n",
      "_________________________________________________________________\n"
     ]
    }
   ],
   "source": [
    "rnn = Sequential([\n",
    "    layers.SimpleRNN(units=10, return_sequences=False, input_shape=[4,1]),\n",
    "    layers.Dense(1)\n",
    "])\n",
    "\n",
    "rnn.summary()"
   ]
  },
  {
   "cell_type": "code",
   "execution_count": 4,
   "id": "0f6f507d-0872-4c44-91eb-cb121230d428",
   "metadata": {},
   "outputs": [
    {
     "name": "stdout",
     "output_type": "stream",
     "text": [
      "Epoch 1/10\n",
      "1/1 [==============================] - 1s 1s/step - loss: 3.0718\n",
      "Epoch 2/10\n",
      "1/1 [==============================] - 0s 11ms/step - loss: 2.2014\n",
      "Epoch 3/10\n",
      "1/1 [==============================] - 0s 6ms/step - loss: 1.5794\n",
      "Epoch 4/10\n",
      "1/1 [==============================] - 0s 8ms/step - loss: 1.1380\n",
      "Epoch 5/10\n",
      "1/1 [==============================] - 0s 9ms/step - loss: 0.8278\n",
      "Epoch 6/10\n",
      "1/1 [==============================] - 0s 8ms/step - loss: 0.6113\n",
      "Epoch 7/10\n",
      "1/1 [==============================] - 0s 8ms/step - loss: 0.4605\n",
      "Epoch 8/10\n",
      "1/1 [==============================] - 0s 9ms/step - loss: 0.3552\n",
      "Epoch 9/10\n",
      "1/1 [==============================] - 0s 10ms/step - loss: 0.2813\n",
      "Epoch 10/10\n",
      "1/1 [==============================] - 0s 8ms/step - loss: 0.2291\n"
     ]
    },
    {
     "data": {
      "text/plain": [
       "<keras.callbacks.History at 0x7f6fc0593940>"
      ]
     },
     "execution_count": 4,
     "metadata": {},
     "output_type": "execute_result"
    }
   ],
   "source": [
    "rnn.compile(optimizer='SGD', loss='mse')\n",
    "rnn.fit(X, Y, epochs=10)"
   ]
  },
  {
   "cell_type": "code",
   "execution_count": 5,
   "id": "481d055e-ee71-403e-9dab-8876c4d2eb60",
   "metadata": {},
   "outputs": [
    {
     "name": "stdout",
     "output_type": "stream",
     "text": [
      "[[0.21179512]]\n",
      "[[0.6286109]]\n"
     ]
    }
   ],
   "source": [
    "print(rnn.predict(np.array([[[1.5],[1.6],[1.7],[1.8]]]))) # 1.9\n",
    "print(rnn.predict(np.array([[[-0.1],[0.0],[0.1],[0.2]]]))) # 0.3"
   ]
  },
  {
   "cell_type": "code",
   "execution_count": 6,
   "id": "9529d560-a846-4e92-89b5-aee05b720b3d",
   "metadata": {},
   "outputs": [],
   "source": [
    "from keras.datasets import imdb\n",
    "from keras.preprocessing import sequence\n",
    "from keras.layers import Dense"
   ]
  },
  {
   "cell_type": "code",
   "execution_count": 9,
   "id": "09520773-d400-45ba-b0d1-da66bf1fc959",
   "metadata": {},
   "outputs": [],
   "source": [
    "max_vocab = 10000\n",
    "maxlen = 500\n",
    "batch_size = 128"
   ]
  },
  {
   "cell_type": "code",
   "execution_count": 10,
   "id": "d18011ca-60ce-4350-8150-3b23ba7f87ab",
   "metadata": {},
   "outputs": [
    {
     "name": "stdout",
     "output_type": "stream",
     "text": [
      "Downloading data from https://storage.googleapis.com/tensorflow/tf-keras-datasets/imdb.npz\n",
      "17465344/17464789 [==============================] - 2s 0us/step\n",
      "17473536/17464789 [==============================] - 2s 0us/step\n",
      "25000 25000\n"
     ]
    }
   ],
   "source": [
    "(input_train, y_train), (input_test, y_test) = imdb.load_data(num_words=max_vocab)\n",
    "print(len(input_train), len(input_test))"
   ]
  },
  {
   "cell_type": "code",
   "execution_count": 11,
   "id": "cbf41d17-8791-41f7-b327-cde70858ef7f",
   "metadata": {},
   "outputs": [
    {
     "name": "stdout",
     "output_type": "stream",
     "text": [
      "[1, 14, 22, 16, 43, 530, 973, 1622, 1385, 65, 458, 4468, 66, 3941, 4, 173, 36, 256, 5, 25, 100, 43, 838, 112, 50, 670, 2, 9, 35, 480, 284, 5, 150, 4, 172, 112, 167, 2, 336, 385, 39, 4, 172, 4536, 1111, 17, 546, 38, 13, 447, 4, 192, 50, 16, 6, 147, 2025, 19, 14, 22, 4, 1920, 4613, 469, 4, 22, 71, 87, 12, 16, 43, 530, 38, 76, 15, 13, 1247, 4, 22, 17, 515, 17, 12, 16, 626, 18, 2, 5, 62, 386, 12, 8, 316, 8, 106, 5, 4, 2223, 5244, 16, 480, 66, 3785, 33, 4, 130, 12, 16, 38, 619, 5, 25, 124, 51, 36, 135, 48, 25, 1415, 33, 6, 22, 12, 215, 28, 77, 52, 5, 14, 407, 16, 82, 2, 8, 4, 107, 117, 5952, 15, 256, 4, 2, 7, 3766, 5, 723, 36, 71, 43, 530, 476, 26, 400, 317, 46, 7, 4, 2, 1029, 13, 104, 88, 4, 381, 15, 297, 98, 32, 2071, 56, 26, 141, 6, 194, 7486, 18, 4, 226, 22, 21, 134, 476, 26, 480, 5, 144, 30, 5535, 18, 51, 36, 28, 224, 92, 25, 104, 4, 226, 65, 16, 38, 1334, 88, 12, 16, 283, 5, 16, 4472, 113, 103, 32, 15, 16, 5345, 19, 178, 32]\n"
     ]
    }
   ],
   "source": [
    "print(input_train[0])"
   ]
  },
  {
   "cell_type": "code",
   "execution_count": 12,
   "id": "941af052-b4aa-4ab6-8b59-f095849a3ce8",
   "metadata": {},
   "outputs": [
    {
     "name": "stdout",
     "output_type": "stream",
     "text": [
      "(25000, 500) (25000, 500)\n"
     ]
    }
   ],
   "source": [
    "input_train = sequence.pad_sequences(input_train, maxlen=maxlen)\n",
    "input_test = sequence.pad_sequences(input_test, maxlen=maxlen)\n",
    "\n",
    "print(input_train.shape, input_test.shape)"
   ]
  },
  {
   "cell_type": "code",
   "execution_count": 13,
   "id": "cccf5371-8a33-41c1-930f-3beab71e2d18",
   "metadata": {},
   "outputs": [
    {
     "name": "stdout",
     "output_type": "stream",
     "text": [
      "Model: \"sequential_1\"\n",
      "_________________________________________________________________\n",
      " Layer (type)                Output Shape              Param #   \n",
      "=================================================================\n",
      " embedding (Embedding)       (None, None, 100)         1000000   \n",
      "                                                                 \n",
      " lstm (LSTM)                 (None, 32)                17024     \n",
      "                                                                 \n",
      " dense_1 (Dense)             (None, 1)                 33        \n",
      "                                                                 \n",
      "=================================================================\n",
      "Total params: 1,017,057\n",
      "Trainable params: 1,017,057\n",
      "Non-trainable params: 0\n",
      "_________________________________________________________________\n"
     ]
    }
   ],
   "source": [
    "model = Sequential()\n",
    "model.add(layers.Embedding(max_vocab, 100))\n",
    "model.add(layers.LSTM(32))\n",
    "model.add(Dense(1, activation='sigmoid'))\n",
    "\n",
    "model.summary()"
   ]
  },
  {
   "cell_type": "code",
   "execution_count": 14,
   "id": "9deb32a6-2f67-4d59-b5b0-c5008d783ae8",
   "metadata": {},
   "outputs": [
    {
     "name": "stdout",
     "output_type": "stream",
     "text": [
      "Epoch 1/10\n"
     ]
    },
    {
     "name": "stderr",
     "output_type": "stream",
     "text": [
      "2022-07-28 15:23:13.132614: I tensorflow/stream_executor/cuda/cuda_dnn.cc:366] Loaded cuDNN version 8401\n"
     ]
    },
    {
     "name": "stdout",
     "output_type": "stream",
     "text": [
      "157/157 [==============================] - 8s 36ms/step - loss: 0.4774 - acc: 0.7750 - val_loss: 0.3403 - val_acc: 0.8614\n",
      "Epoch 2/10\n",
      "157/157 [==============================] - 5s 33ms/step - loss: 0.2879 - acc: 0.8831 - val_loss: 0.3055 - val_acc: 0.8818\n",
      "Epoch 3/10\n",
      "157/157 [==============================] - 5s 33ms/step - loss: 0.2256 - acc: 0.9160 - val_loss: 0.3040 - val_acc: 0.8714\n",
      "Epoch 4/10\n",
      "157/157 [==============================] - 5s 32ms/step - loss: 0.1970 - acc: 0.9277 - val_loss: 0.4042 - val_acc: 0.8432\n",
      "Epoch 5/10\n",
      "157/157 [==============================] - 5s 33ms/step - loss: 0.1694 - acc: 0.9400 - val_loss: 0.3983 - val_acc: 0.8626\n",
      "Epoch 6/10\n",
      "157/157 [==============================] - 5s 33ms/step - loss: 0.1465 - acc: 0.9464 - val_loss: 0.3083 - val_acc: 0.8834\n",
      "Epoch 7/10\n",
      "157/157 [==============================] - 5s 33ms/step - loss: 0.1359 - acc: 0.9516 - val_loss: 0.3428 - val_acc: 0.8898\n",
      "Epoch 8/10\n",
      "157/157 [==============================] - 5s 32ms/step - loss: 0.1215 - acc: 0.9567 - val_loss: 0.3958 - val_acc: 0.8812\n",
      "Epoch 9/10\n",
      "157/157 [==============================] - 5s 32ms/step - loss: 0.1064 - acc: 0.9627 - val_loss: 0.3636 - val_acc: 0.8824\n",
      "Epoch 10/10\n",
      "157/157 [==============================] - 5s 32ms/step - loss: 0.1010 - acc: 0.9644 - val_loss: 0.3638 - val_acc: 0.8858\n"
     ]
    }
   ],
   "source": [
    "model.compile(optimizer='rmsprop', loss='binary_crossentropy', metrics=['acc'])\n",
    "history = model.fit(input_train, y_train, epochs=10, batch_size=128, validation_split=0.2)"
   ]
  },
  {
   "cell_type": "code",
   "execution_count": 15,
   "id": "eb630314-a890-4b42-a377-2e5f3e8c1b40",
   "metadata": {},
   "outputs": [
    {
     "data": {
      "image/png": "[encoded data removed]",
      "text/plain": [
       "<Figure size 432x288 with 1 Axes>"
      ]
     },
     "metadata": {
      "needs_background": "light"
     },
     "output_type": "display_data"
    },
    {
     "data": {
      "image/png": "[encoded data removed]",
      "text/plain": [
       "<Figure size 432x288 with 1 Axes>"
      ]
     },
     "metadata": {
      "needs_background": "light"
     },
     "output_type": "display_data"
    }
   ],
   "source": [
    "import matplotlib.pyplot as plt\n",
    "\n",
    "acc = history.history['acc']\n",
    "val_acc = history.history['val_acc']\n",
    "\n",
    "loss = history.history['loss']\n",
    "val_loss = history.history['val_loss']\n",
    "\n",
    "epochs = range(1, len(acc) + 1)\n",
    "\n",
    "plt.plot(epochs, acc, 'bo', label='Training acc')\n",
    "plt.plot(epochs, val_acc, 'b', label='Validation acc')\n",
    "plt.legend()\n",
    "plt.figure()\n",
    "\n",
    "plt.plot(epochs, loss, 'ro', label='Training loss')\n",
    "plt.plot(epochs, val_loss, 'r', label='Validation loss')\n",
    "plt.legend()\n",
    "\n",
    "plt.show()"
   ]
  },
  {
   "cell_type": "code",
   "execution_count": null,
   "id": "b5b1245e-ce9d-426b-8422-2b8d87e95364",
   "metadata": {},
   "outputs": [],
   "source": []
  }
 ],
 "metadata": {
  "kernelspec": {
   "display_name": "Python 3 (ipykernel)",
   "language": "python",
   "name": "python3"
  },
  "language_info": {
   "codemirror_mode": {
    "name": "ipython",
    "version": 3
   },
   "file_extension": ".py",
   "mimetype": "text/x-python",
   "name": "python",
   "nbconvert_exporter": "python",
   "pygments_lexer": "ipython3",
   "version": "3.9.7"
  }
 },
 "nbformat": 4,
 "nbformat_minor": 5
}
